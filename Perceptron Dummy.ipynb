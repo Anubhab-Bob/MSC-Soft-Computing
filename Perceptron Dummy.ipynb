{
 "cells": [
  {
   "cell_type": "code",
   "execution_count": 12,
   "id": "italic-coating",
   "metadata": {},
   "outputs": [],
   "source": [
    "# import sklearn.linear_model.perceptron\n",
    "import sklearn.linear_model\n",
    "import matplotlib.pyplot as plt\n",
    "from matplotlib.colors import ListedColormap\n",
    "import numpy as np"
   ]
  },
  {
   "cell_type": "code",
   "execution_count": 13,
   "id": "american-holmes",
   "metadata": {},
   "outputs": [],
   "source": [
    "# Let's use sklearn make_classification function to create some test data.\n",
    "from sklearn.datasets import make_classification\n",
    "X, Y = make_classification(20, 2, 2, 0, weights=[.5, .5], random_state=2017, n_informative=2, n_redundant=0)"
   ]
  },
  {
   "cell_type": "code",
   "execution_count": 15,
   "id": "relevant-nowhere",
   "metadata": {},
   "outputs": [
    {
     "ename": "NameError",
     "evalue": "name 'perceptron' is not defined",
     "output_type": "error",
     "traceback": [
      "\u001b[1;31m---------------------------------------------------------------------------\u001b[0m",
      "\u001b[1;31mNameError\u001b[0m                                 Traceback (most recent call last)",
      "\u001b[1;32m<ipython-input-15-bb5d17fc9d2d>\u001b[0m in \u001b[0;36m<module>\u001b[1;34m\u001b[0m\n\u001b[0;32m      1\u001b[0m \u001b[1;31m# Create the model\u001b[0m\u001b[1;33m\u001b[0m\u001b[1;33m\u001b[0m\u001b[1;33m\u001b[0m\u001b[0m\n\u001b[1;32m----> 2\u001b[1;33m \u001b[0mclf\u001b[0m \u001b[1;33m=\u001b[0m \u001b[0mperceptron\u001b[0m\u001b[1;33m.\u001b[0m\u001b[0mPerceptron\u001b[0m\u001b[1;33m(\u001b[0m\u001b[0mmax_iter\u001b[0m\u001b[1;33m=\u001b[0m\u001b[1;36m100\u001b[0m\u001b[1;33m,\u001b[0m \u001b[0mverbose\u001b[0m\u001b[1;33m=\u001b[0m\u001b[1;36m0\u001b[0m\u001b[1;33m,\u001b[0m \u001b[0mrandom_state\u001b[0m\u001b[1;33m=\u001b[0m\u001b[1;36m2017\u001b[0m\u001b[1;33m,\u001b[0m \u001b[0mfit_intercept\u001b[0m\u001b[1;33m=\u001b[0m\u001b[1;32mTrue\u001b[0m\u001b[1;33m,\u001b[0m \u001b[0meta0\u001b[0m\u001b[1;33m=\u001b[0m\u001b[1;36m0.002\u001b[0m\u001b[1;33m)\u001b[0m\u001b[1;33m\u001b[0m\u001b[1;33m\u001b[0m\u001b[0m\n\u001b[0m\u001b[0;32m      3\u001b[0m \u001b[0mclf\u001b[0m\u001b[1;33m.\u001b[0m\u001b[0mfit\u001b[0m\u001b[1;33m(\u001b[0m\u001b[0mX\u001b[0m\u001b[1;33m,\u001b[0m\u001b[0mY\u001b[0m\u001b[1;33m)\u001b[0m\u001b[1;33m\u001b[0m\u001b[1;33m\u001b[0m\u001b[0m\n",
      "\u001b[1;31mNameError\u001b[0m: name 'perceptron' is not defined"
     ]
    }
   ],
   "source": [
    "# Create the model\n",
    "clf = perceptron.Perceptron(max_iter=100, verbose=0, random_state=2017, fit_intercept=True, eta0=0.002)\n",
    "clf.fit(X,Y)"
   ]
  },
  {
   "cell_type": "code",
   "execution_count": 17,
   "id": "frequent-stylus",
   "metadata": {},
   "outputs": [],
   "source": [
    "def plot_decision_regions(X, y, classifier):\n",
    "    h = .02 # step size in the mesh\n",
    "    # setup marker generator and color map\n",
    "    markers = ('s', 'x', 'o', '^', 'v')\n",
    "    colors = ('red', 'blue', 'lightgreen', 'gray', 'cyan')\n",
    "    cmap = ListedColormap(colors[:len(np.unique(y))])\n",
    "    print(cmap.colors)\n",
    "    # plot the decision surface\n",
    "    x1_min, x1_max = X[:, 0].min() - 1, X[:, 0].max() + 1\n",
    "    x2_min, x2_max = X[:, 1].min() - 1, X[:, 1].max() + 1\n",
    "    xx1, xx2 = np.meshgrid(np.arange(x1_min, x1_max, h),\n",
    "    np.arange(x2_min, x2_max, h))\n",
    "    Z = classifier.predict(np.array([xx1.ravel(), xx2.ravel()]).T)\n",
    "    Z = Z.reshape(xx1.shape)\n",
    "    plt.contourf(xx1, xx2, Z, alpha=0.4, cmap=cmap)\n",
    "    plt.xlim(xx1.min(), xx1.max())\n",
    "    plt.ylim(xx2.min(), xx2.max())\n",
    "    for idx, cl in enumerate(np.unique(y)):\n",
    "        plt.scatter(x=X[y == cl, 0], y=X[y == cl, 1],\n",
    "        alpha=0.8, color=cmap(idx),\n",
    "        marker=markers[idx], label=cl)"
   ]
  },
  {
   "cell_type": "code",
   "execution_count": 18,
   "id": "weekly-television",
   "metadata": {},
   "outputs": [
    {
     "name": "stdout",
     "output_type": "stream",
     "text": [
      "Prediction: [1 1 1 0 0 0 0 1 0 1 1 0 0 1 0 1 0 0 1 1]\n",
      "Actual: [1 1 1 0 0 0 0 1 0 1 1 0 0 1 0 1 0 0 1 1]\n",
      "Accuracy: 100.0%\n"
     ]
    }
   ],
   "source": [
    "print (\"Prediction: \" + str(clf.predict(X)))\n",
    "print (\"Actual: \" + str(Y))\n",
    "print (\"Accuracy: \" + str(clf.score(X, Y)*100) + \"%\")"
   ]
  },
  {
   "cell_type": "code",
   "execution_count": 19,
   "id": "charming-lemon",
   "metadata": {},
   "outputs": [
    {
     "name": "stdout",
     "output_type": "stream",
     "text": [
      "X1 Coefficient: 0.0059220006267825375\n",
      "X2 Coefficient: -0.0001843653761609775\n",
      "Intercept: [0.]\n"
     ]
    }
   ],
   "source": [
    "# Output the values\n",
    "print (\"X1 Coefficient: \" + str(clf.coef_[0,0]))\n",
    "print (\"X2 Coefficient: \" + str(clf.coef_[0,1]))\n",
    "print (\"Intercept: \" + str(clf.intercept_))"
   ]
  },
  {
   "cell_type": "code",
   "execution_count": 22,
   "id": "grand-trance",
   "metadata": {},
   "outputs": [
    {
     "name": "stdout",
     "output_type": "stream",
     "text": [
      "('red', 'blue')\n"
     ]
    },
    {
     "data": {
      "image/png": "[encoded data removed]",
      "text/plain": [
       "<Figure size 432x288 with 1 Axes>"
      ]
     },
     "metadata": {
      "needs_background": "light"
     },
     "output_type": "display_data"
    }
   ],
   "source": [
    "# Plot the decision boundary using cusom function ‘plot_decision_regions’\n",
    "plot_decision_regions(X, Y, classifier=clf)\n",
    "plt.title('Perceptron Model Decision Boundry')\n",
    "plt.xlabel(' Eta ki Jani na')\n",
    "plt.ylabel(' Etao ki aroi jani na ')\n",
    "plt.legend(loc='upper left')\n",
    "plt.show()"
   ]
  },
  {
   "cell_type": "code",
   "execution_count": null,
   "id": "close-correction",
   "metadata": {},
   "outputs": [],
   "source": []
  }
 ],
 "metadata": {
  "kernelspec": {
   "display_name": "Python 3",
   "language": "python",
   "name": "python3"
  },
  "language_info": {
   "codemirror_mode": {
    "name": "ipython",
    "version": 3
   },
   "file_extension": ".py",
   "mimetype": "text/x-python",
   "name": "python",
   "nbconvert_exporter": "python",
   "pygments_lexer": "ipython3",
   "version": "3.8.5"
  }
 },
 "nbformat": 4,
 "nbformat_minor": 5
}
