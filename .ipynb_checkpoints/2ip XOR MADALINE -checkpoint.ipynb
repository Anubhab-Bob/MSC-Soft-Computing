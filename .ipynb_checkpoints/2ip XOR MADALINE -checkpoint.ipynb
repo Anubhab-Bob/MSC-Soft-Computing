{
 "cells": [
  {
   "cell_type": "markdown",
   "metadata": {},
   "source": [
    "The architecture has \n",
    "<ul>\n",
    "    2 inputs x1, x2<br>\n",
    "    1 hidden layer with 2 nodes<br>\n",
    "    1 output node y<br>\n",
    "    learning rate = 0.5<br>\n",
    "    v0,v1, v2 are 0.5<br>\n",
    "    all biases are set to 1<br>\n",
    "</ul>"
   ]
  },
  {
   "cell_type": "code",
   "execution_count": 39,
   "metadata": {},
   "outputs": [
    {
     "name": "stdout",
     "output_type": "stream",
     "text": [
      "x0\t|\tx1\t|\tx2\t|\tt\n",
      "--------------------------------------------------------\n",
      "1\t|\t1\t|\t1\t|\t-1\n",
      "1\t|\t1\t|\t-1\t|\t1\n",
      "1\t|\t-1\t|\t1\t|\t1\n",
      "1\t|\t-1\t|\t-1\t|\t-1\n"
     ]
    }
   ],
   "source": [
    "# Generate inputs for 2 input XOR gate in an arbitrary sequence\n",
    "x0 = 1\n",
    "t = [-1,1,1,-1]\n",
    "x1 = [1,1,-1,-1]\n",
    "x2 = [1,-1,1,-1]\n",
    "w = [\n",
    "    [1, 0.2, 0.3],\n",
    "    [0, 0.3, 0.2],\n",
    "    [0, 0.2, 0.1],\n",
    "    ]\n",
    "v0,v1,v2 = 0.5,0.5,0.5\n",
    "n = 0.5\n",
    "\n",
    "print(\"x0\\t|\\tx1\\t|\\tx2\\t|\\tt\\n--------------------------------------------------------\")\n",
    "for i in range(4):\n",
    "    print(f'{x0}\\t|\\t{x1[i]}\\t|\\t{x2[i]}\\t|\\t{t[i]}')"
   ]
  },
  {
   "cell_type": "code",
   "execution_count": 40,
   "metadata": {},
   "outputs": [],
   "source": [
    "def train():\n",
    "    zin1 = 0\n",
    "    zin2 = 0\n",
    "    zout1 = 0\n",
    "    zout2 = 0\n",
    "    yin = 0\n",
    "    yout = []\n",
    "    print(\"x0\\tx1\\tx2\\tt\\tzin1\\tzin2\\tzout1\\tzout2\\tyin\\tyout\\tw01\\tw11\\tw21\\tw02\\tw12\\tw22\\n-------------------------------------------------------------------------------------------------------------------------------\")\n",
    "    for i in range(4):\n",
    "        zin1 = round(1*w[0][1] + x1[i]*w[1][1] + x2[i]*w[2][1], 2)\n",
    "        zin2 = round(1*w[0][2] + x1[i]*w[1][2] + x2[i]*w[2][2], 2)\n",
    "        if(zin1 >= 0):\n",
    "            zout1 = 1\n",
    "        else:\n",
    "            zout1 = -1\n",
    "        if(zin2 >= 0):\n",
    "            zout2 = 1\n",
    "        else:\n",
    "            zout2 = -1\n",
    "        yin = round(v0 + zout1*v1 + zout2*v2, 2)\n",
    "        if(yin >= 0):\n",
    "            yout.append(1)\n",
    "        else:\n",
    "            yout.append(-1)\n",
    "            \n",
    "        if ((yout[i] != t[i]) and (t[i] == -1)):\n",
    "            if(zin1 > 0):\n",
    "                w[0][1] = round(w[0][1] + n*(t[i]-zin1)*x0, 2)\n",
    "                w[1][1] = round(w[1][1] + n*(t[i]-zin1)*x1[i], 2)\n",
    "                w[2][1] = round(w[2][1] + n*(t[i]-zin1)*x2[i], 2)\n",
    "            if(zin2 > 0):\n",
    "                w[0][2] = round(w[0][2] + n*(t[i]-zin2)*x0, 2)\n",
    "                w[1][2] = round(w[1][2] + n*(t[i]-zin2)*x1[i], 2)\n",
    "                w[2][2] = round(w[2][2] + n*(t[i]-zin2)*x2[i], 2)\n",
    "                    \n",
    "        elif ((yout[i] != t[i]) and (t[i] == 1)):\n",
    "            if(abs(zin1-0) < abs(zin2-0)):\n",
    "                w[0][1] = round(w[0][1] + n*(t[i]-zin1)*x0, 2)\n",
    "                w[1][1] = round(w[1][1] + n*(t[i]-zin1)*x1[i], 2)\n",
    "                w[2][1] = round(w[2][1] + n*(t[i]-zin1)*x2[i], 2)\n",
    "            else:\n",
    "                w[0][2] = round(w[0][2] + n*(t[i]-zin2)*x0, 2)\n",
    "                w[1][2] = round(w[1][2] + n*(t[i]-zin2)*x1[i], 2)\n",
    "                w[2][2] = round(w[2][2] + n*(t[i]-zin2)*x2[i], 2)\n",
    "                    \n",
    "        print(f'{x0}\\t{x1[i]}\\t{x2[i]}\\t{t[i]}\\t{zin1}\\t{zin2}\\t{zout1}\\t{zout2}\\t{yin}\\t{yout[i]}\\t{w[0][1]}\\t{w[1][1]}\\t{w[2][1]}\\t{w[0][2]}\\t{w[1][2]}\\t{w[2][2]}')\n",
    "    return yout"
   ]
  },
  {
   "cell_type": "code",
   "execution_count": 41,
   "metadata": {},
   "outputs": [
    {
     "name": "stdout",
     "output_type": "stream",
     "text": [
      "\n",
      "\n",
      "Epoch 4 :\n",
      "\n",
      "x0\tx1\tx2\tt\tzin1\tzin2\tzout1\tzout2\tyin\tyout\tw01\tw11\tw21\tw02\tw12\tw22\n",
      "-------------------------------------------------------------------------------------------------------------------------------\n",
      "1\t1\t1\t-1\t0.7\t0.6\t1\t1\t1.5\t1\t-0.65\t-0.55\t-0.65\t-0.5\t-0.6\t-0.7\n",
      "1\t1\t-1\t1\t-0.55\t-0.4\t-1\t-1\t-0.5\t-1\t-0.65\t-0.55\t-0.65\t0.2\t0.1\t-1.4\n",
      "1\t-1\t1\t1\t-0.75\t-1.3\t-1\t-1\t-0.5\t-1\t0.22\t-1.43\t0.22\t0.2\t0.1\t-1.4\n",
      "1\t-1\t-1\t-1\t1.43\t1.5\t1\t1\t1.5\t1\t-0.99\t-0.22\t1.43\t-1.05\t1.35\t-0.15\n",
      "\n",
      "\n",
      "Epoch 4 :\n",
      "\n",
      "x0\tx1\tx2\tt\tzin1\tzin2\tzout1\tzout2\tyin\tyout\tw01\tw11\tw21\tw02\tw12\tw22\n",
      "-------------------------------------------------------------------------------------------------------------------------------\n",
      "1\t1\t1\t-1\t0.22\t0.15\t1\t1\t1.5\t1\t-1.6\t-0.83\t0.82\t-1.62\t0.78\t-0.72\n",
      "1\t1\t-1\t1\t-3.25\t-0.12\t-1\t-1\t-0.5\t-1\t-1.6\t-0.83\t0.82\t-1.06\t1.34\t-1.28\n",
      "1\t-1\t1\t1\t0.05\t-3.68\t1\t-1\t0.5\t1\t-1.6\t-0.83\t0.82\t-1.06\t1.34\t-1.28\n",
      "1\t-1\t-1\t-1\t-1.59\t-1.12\t-1\t-1\t-0.5\t-1\t-1.6\t-0.83\t0.82\t-1.06\t1.34\t-1.28\n",
      "\n",
      "\n",
      "Epoch 4 :\n",
      "\n",
      "x0\tx1\tx2\tt\tzin1\tzin2\tzout1\tzout2\tyin\tyout\tw01\tw11\tw21\tw02\tw12\tw22\n",
      "-------------------------------------------------------------------------------------------------------------------------------\n",
      "1\t1\t1\t-1\t-1.61\t-1.0\t-1\t-1\t-0.5\t-1\t-1.6\t-0.83\t0.82\t-1.06\t1.34\t-1.28\n",
      "1\t1\t-1\t1\t-3.25\t1.56\t-1\t1\t0.5\t1\t-1.6\t-0.83\t0.82\t-1.06\t1.34\t-1.28\n",
      "1\t-1\t1\t1\t0.05\t-3.68\t1\t-1\t0.5\t1\t-1.6\t-0.83\t0.82\t-1.06\t1.34\t-1.28\n",
      "1\t-1\t-1\t-1\t-1.59\t-1.12\t-1\t-1\t-0.5\t-1\t-1.6\t-0.83\t0.82\t-1.06\t1.34\t-1.28\n"
     ]
    },
    {
     "data": {
      "text/plain": [
       "[-1, 1, 1, -1]"
      ]
     },
     "execution_count": 41,
     "metadata": {},
     "output_type": "execute_result"
    }
   ],
   "source": [
    "while (True):\n",
    "    print(f'\\n\\nEpoch {i+1} :\\n')\n",
    "    yout = train()\n",
    "    if yout==t:\n",
    "        break\n",
    "yout"
   ]
  },
  {
   "cell_type": "code",
   "execution_count": null,
   "metadata": {},
   "outputs": [],
   "source": []
  }
 ],
 "metadata": {
  "kernelspec": {
   "display_name": "Python 3",
   "language": "python",
   "name": "python3"
  },
  "language_info": {
   "codemirror_mode": {
    "name": "ipython",
    "version": 3
   },
   "file_extension": ".py",
   "mimetype": "text/x-python",
   "name": "python",
   "nbconvert_exporter": "python",
   "pygments_lexer": "ipython3",
   "version": "3.7.9"
  }
 },
 "nbformat": 4,
 "nbformat_minor": 4
}
