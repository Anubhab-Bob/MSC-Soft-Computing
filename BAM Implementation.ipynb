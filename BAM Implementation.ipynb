{
 "cells": [
  {
   "cell_type": "markdown",
   "id": "fleet-regular",
   "metadata": {},
   "source": [
    "Driver code to implement Kosko's Bidirectional Associative Memory using custom library"
   ]
  },
  {
   "cell_type": "code",
   "execution_count": 1,
   "id": "upset-wedding",
   "metadata": {},
   "outputs": [],
   "source": [
    "# import custom library\n",
    "from BAM import bam"
   ]
  },
  {
   "cell_type": "code",
   "execution_count": 2,
   "id": "limiting-nursing",
   "metadata": {},
   "outputs": [
    {
     "name": "stdout",
     "output_type": "stream",
     "text": [
      "Enter the number of pattern pairs:- 3\n",
      "1st pattern of pair 1 :- 1,0,0,0,0,1\n",
      "2nd pattern of pair 1 :- 1,1,0,0,0\n",
      "1st pattern of pair 2 :- 0,1,1,0,0,0\n",
      "2nd pattern of pair 2 :- 1,0,1,0,0\n",
      "1st pattern of pair 3 :- 0,0,1,0,1,1\n",
      "2nd pattern of pair 3 :- 0,1,1,1,0\n"
     ]
    }
   ],
   "source": [
    "# input number of pattern pairs\n",
    "n = int(input(\"Enter the number of pattern pairs:- \"))\n",
    "b = bam()\n",
    "# taking input pairs\n",
    "for i in range(n):\n",
    "    l1 = input(\"1st pattern of pair \" + str(i+1) + \" :- \")\n",
    "    l2 = input(\"2nd pattern of pair \" + str(i+1) + \" :- \")\n",
    "    b.create_matrix(l1, l2)\t# constructs correlation matrix from input pairs\n",
    "# accepting one pattern of the pair"
   ]
  },
  {
   "cell_type": "code",
   "execution_count": 4,
   "id": "everyday-insulin",
   "metadata": {},
   "outputs": [
    {
     "name": "stdout",
     "output_type": "stream",
     "text": [
      "Enter choice of retrieval\n",
      "1: Beta\t2: Alpha --> 2\n",
      "Enter 2nd pattern to retrieve its pair:- 1,0,1,0,0\n",
      "The associated pair is :- \n",
      " 0,1,1,0,0,0\n"
     ]
    }
   ],
   "source": [
    "# test the pattern recogniser\n",
    "choice = int(input(\"Enter choice of retrieval\\n1: Beta\\t2: Alpha --> \"))\n",
    "associated_pair = \"\"\n",
    "if choice == 1:\n",
    "    alpha = input(\"Enter 1st pattern to retrieve its pair:- \")\n",
    "    associated_pair = str(b.retrieve_beta(alpha))\n",
    "elif choice == 2:\n",
    "    beta = input(\"Enter 2nd pattern to retrieve its pair:- \")\n",
    "    associated_pair = str(b.retrieve_alpha(beta))\n",
    "# associated pair of the provided pattern\n",
    "print(\"The associated pair is :- \\n \" +','.join((filter(lambda i: i not in ['[',']',' '], associated_pair))))"
   ]
  },
  {
   "cell_type": "code",
   "execution_count": null,
   "id": "productive-queue",
   "metadata": {},
   "outputs": [],
   "source": []
  }
 ],
 "metadata": {
  "kernelspec": {
   "display_name": "Python 3",
   "language": "python",
   "name": "python3"
  },
  "language_info": {
   "codemirror_mode": {
    "name": "ipython",
    "version": 3
   },
   "file_extension": ".py",
   "mimetype": "text/x-python",
   "name": "python",
   "nbconvert_exporter": "python",
   "pygments_lexer": "ipython3",
   "version": "3.8.5"
  }
 },
 "nbformat": 4,
 "nbformat_minor": 5
}
