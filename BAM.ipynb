{
 "cells": [
  {
   "cell_type": "markdown",
   "id": "iraqi-retreat",
   "metadata": {},
   "source": [
    "A custom library to implement Kosko's Bidirectional Associative Memory."
   ]
  },
  {
   "cell_type": "code",
   "execution_count": 1,
   "id": "regular-thailand",
   "metadata": {},
   "outputs": [],
   "source": [
    "import numpy as np\n",
    "# bam class  \n",
    "class bam(object):\n",
    "\n",
    "    def __init__(self):\n",
    "        # constructor\n",
    "        self.M = None\n",
    "\n",
    "    def create_matrix(self, a, b):\n",
    "       # transpose a and multiply with b\n",
    "        a, b = a.replace(\"0\", \"-1\"), b.replace(\"0\", \"-1\")\n",
    "        a, b = list(map(int, a.split(\",\"))), list(map(int, b.split(\",\")))\n",
    "        a = np.array(a).reshape(len(a), 1)\n",
    "        self.store_matrix(np.multiply(a, b))\n",
    "\n",
    "    def store_matrix(self, matrix):\n",
    "       # summation of the matrices obtained after multiplication\n",
    "        if self.M is None:\n",
    "            self.M = matrix\n",
    "        else:\n",
    "            self.M += matrix\n",
    "\n",
    "    def replacer(self, array):\n",
    "\t# replaces values in patterns\n",
    "        array[array > 0], array[array < 0] = 1, -1\n",
    "        return array\n",
    "\n",
    "    def retrieve(self, alpha):\n",
    "    # retrieves the pattern pair \n",
    "        alpha = alpha.replace(\"0\", \"-1\")\n",
    "        alpha = list(map(int, alpha.split(\",\")))\n",
    "        alpha = np.array(alpha).reshape(1, len(alpha))\n",
    "        beta = self.replacer(np.dot(alpha, self.M))\n",
    "        beta1 = None\n",
    "        while not (beta == beta1).all():\n",
    "            alpha1 = self.replacer(np.dot(beta, np.transpose(self.M)))\n",
    "            beta1 = self.replacer(np.dot(alpha, self.M))\n",
    "        beta[beta < 0] = 0\n",
    "        return beta"
   ]
  }
 ],
 "metadata": {
  "kernelspec": {
   "display_name": "Python 3",
   "language": "python",
   "name": "python3"
  },
  "language_info": {
   "codemirror_mode": {
    "name": "ipython",
    "version": 3
   },
   "file_extension": ".py",
   "mimetype": "text/x-python",
   "name": "python",
   "nbconvert_exporter": "python",
   "pygments_lexer": "ipython3",
   "version": "3.8.5"
  }
 },
 "nbformat": 4,
 "nbformat_minor": 5
}
