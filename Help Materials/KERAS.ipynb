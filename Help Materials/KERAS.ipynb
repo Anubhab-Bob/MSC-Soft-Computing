{
 "cells": [
  {
   "cell_type": "markdown",
   "metadata": {
    "id": "FCVloIXmpeoU"
   },
   "source": [
    "# **KERAS**"
   ]
  },
  {
   "cell_type": "markdown",
   "metadata": {
    "id": "uwN_sFcjpk4_"
   },
   "source": [
    "* Keras is an Open Source Neural Network library written in Python that runs on top of Theano or Tensorflow.\n",
    "* Keras High-Level API handles the way we make models, defining layers, or set up multiple input-output models. In this level, Keras also compiles our model with loss and optimizer functions, training process with fit function. \n",
    "* Backend is a term in Keras that performs all low-level computation such as tensor products, convolutions and many other things with the help of other libraries such as Tensorflow or Theano.Tensorflow is the default \"backend engine\" but we can change it in the configuration."
   ]
  },
  {
   "cell_type": "code",
   "execution_count": 1,
   "metadata": {
    "id": "Clu_B4H0pcNg"
   },
   "outputs": [],
   "source": [
    "from keras.models import Sequential\n",
    "from keras.layers import Dense, Activation,Conv2D,MaxPooling2D,Flatten,Dropout\n",
    "\n",
    "# Sequential Model\n",
    "model = Sequential()"
   ]
  },
  {
   "cell_type": "code",
   "execution_count": 2,
   "metadata": {
    "id": "3LRi5nOup3jE"
   },
   "outputs": [],
   "source": [
    "# Convolutional layer as input layer with 48 filters of size 3x3 and use ReLU as an activation function\n",
    "model.add(Conv2D(48, (3, 3), activation='relu'))"
   ]
  },
  {
   "cell_type": "code",
   "execution_count": 4,
   "metadata": {
    "id": "qHvbu4nZqJrW"
   },
   "outputs": [],
   "source": [
    "# MaxPooling layer with kernel size\n",
    "model.add(MaxPooling2D(pool_size=(2, 2)))"
   ]
  },
  {
   "cell_type": "code",
   "execution_count": 5,
   "metadata": {
    "id": "-FXMqpDHqPDe"
   },
   "outputs": [],
   "source": [
    "# Dense layer [Fully connected layer with output size]\n",
    "model.add(Dense(256, activation='relu'))"
   ]
  },
  {
   "cell_type": "code",
   "execution_count": 6,
   "metadata": {
    "id": "GpBxPisbqeQT"
   },
   "outputs": [],
   "source": [
    "# Dropout layer with 50% probability\n",
    "model.add(Dropout(0.5))"
   ]
  },
  {
   "cell_type": "code",
   "execution_count": 7,
   "metadata": {
    "id": "7C9XgPnGrLpf"
   },
   "outputs": [],
   "source": [
    "# Compiling [to change weights and minimized the loss]\n",
    "model.compile(loss='mean_squared_error', optimizer='adam')"
   ]
  },
  {
   "cell_type": "code",
   "execution_count": null,
   "metadata": {
    "id": "p5cL6DRusQ-X"
   },
   "outputs": [],
   "source": [
    "# define training and testing data as per requirement"
   ]
  },
  {
   "cell_type": "code",
   "execution_count": null,
   "metadata": {
    "id": "XoAmvUSarOUW"
   },
   "outputs": [],
   "source": [
    "# fit [to fed the training and validation data to the model]\n",
    "model.fit(X_train, X_train, batch_size=32, epochs=10, validation_data=(x_val, y_val))"
   ]
  },
  {
   "cell_type": "code",
   "execution_count": null,
   "metadata": {
    "id": "tsvEYwzHrzRz"
   },
   "outputs": [],
   "source": [
    "# Evaluate the model with test data\n",
    "score = model.evaluate(x_test, y_test, batch_size=32)"
   ]
  }
 ],
 "metadata": {
  "colab": {
   "name": "KERAS.ipynb",
   "provenance": []
  },
  "kernelspec": {
   "display_name": "Python 3",
   "language": "python",
   "name": "python3"
  },
  "language_info": {
   "codemirror_mode": {
    "name": "ipython",
    "version": 3
   },
   "file_extension": ".py",
   "mimetype": "text/x-python",
   "name": "python",
   "nbconvert_exporter": "python",
   "pygments_lexer": "ipython3",
   "version": "3.8.5"
  }
 },
 "nbformat": 4,
 "nbformat_minor": 1
}
