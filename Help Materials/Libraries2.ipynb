{
 "cells": [
  {
   "cell_type": "markdown",
   "metadata": {},
   "source": [
    "# Lasagne"
   ]
  },
  {
   "cell_type": "markdown",
   "metadata": {},
   "source": [
    "To install release 0.1 of Lasagne from PyPI, run the following command:\n",
    "\n",
    "pip install Lasagne==0.1\n",
    "\n",
    "The latest development version of Lasagne usually works fine with the latest development version of Theano. To install both, run the following commands:\n",
    "\n",
    "pip install --upgrade https://github.com/Theano/Theano/archive/master.zip\n",
    "\n",
    "pip install --upgrade https://github.com/Lasagne/Lasagne/archive/master.zip"
   ]
  },
  {
   "cell_type": "code",
   "execution_count": 11,
   "metadata": {},
   "outputs": [],
   "source": [
    "import numpy as np\n",
    "import theano\n",
    "import theano.tensor as T\n",
    "\n",
    "import lasagne"
   ]
  },
  {
   "cell_type": "markdown",
   "metadata": {},
   "source": [
    "Loading data:\n",
    "\n",
    "The first piece of code defines a function load_dataset()."
   ]
  },
  {
   "cell_type": "code",
   "execution_count": 30,
   "metadata": {},
   "outputs": [],
   "source": [
    "def load_dataset():\n",
    "    return X_train, y_train, X_val, y_val, X_test, y_test\n",
    "\n",
    "#X_train.shape is (50000, 1, 28, 28), to be interpreted as: 50,000 images of 1 channel, 28 rows and 28 columns each. \n",
    "#y_train.shape is simply (50000,), that is, it is a vector the same length of X_train giving an integer class label for each image – namely,\n",
    "#the digit between 0 and 9 depicted in the image"
   ]
  },
  {
   "cell_type": "markdown",
   "metadata": {},
   "source": [
    "# Multi-Layer Perceptron (MLP)\n",
    "The first function, build_mlp(), creates an MLP of two hidden layers of 800 units each, followed by a softmax output layer of 10 units. It applies 20% dropout to the input data and 50% dropout to the hidden layers.\n",
    "\n",
    " The foundation of each neural network in Lasagne is an InputLayer instance (or multiple of those) representing the input data that will subsequently be fed to the network."
   ]
  },
  {
   "cell_type": "code",
   "execution_count": 55,
   "metadata": {},
   "outputs": [],
   "source": [
    "def build_mlp(input_var=None):\n",
    "    l_in = lasagne.layers.InputLayer(shape=(None, 1, 28, 28),input_var=input_var)\n",
    "    \n",
    "#The four numbers in the shape tuple represent, in order: (batchsize, channels, rows, columns). \n",
    "#Here we’ve set the batchsize to None, \n",
    "#which means the network will accept input data of arbitrary batchsize after compilation.\n",
    "\n",
    "#input_var denotes the Theano variable we want to link the network’s input layer to."
   ]
  },
  {
   "cell_type": "code",
   "execution_count": 56,
   "metadata": {},
   "outputs": [],
   "source": [
    "#Before adding the first hidden layer, we’ll apply 20% dropout to the input data. \n",
    "#This is realized via a DropoutLayer instance:\n",
    "l_in_drop = lasagne.layers.DropoutLayer(l_in, p=0.2)\n",
    "\n",
    "# l_in_drop is now stacked on top of l_in."
   ]
  },
  {
   "cell_type": "markdown",
   "metadata": {},
   "source": [
    "We’ll proceed with the first fully-connected hidden layer of 800 units. \n",
    "Note that when stacking a DenseLayer on higher-order input tensors, they will be flattened implicitly"
   ]
  },
  {
   "cell_type": "code",
   "execution_count": 57,
   "metadata": {},
   "outputs": [],
   "source": [
    "l_hid1 = lasagne.layers.DenseLayer(\n",
    "        l_in_drop, num_units=800,\n",
    "        nonlinearity=lasagne.nonlinearities.rectify,\n",
    "        W=lasagne.init.GlorotUniform())\n",
    "\n",
    "#The first constructor argument means that we’re stacking l_hid1 on top of l_in_drop.\n",
    "#num_units simply gives the number of units for this fully-connected layer. \n",
    "#nonlinearity takes a nonlinearity function, several of which are defined in lasagne.nonlinearities. \n",
    "#Here we’ve chosen the linear rectifier, so we’ll obtain ReLUs. \n",
    "#Finally, lasagne.init.GlorotUniform() gives the initializer for the weight matrix W. "
   ]
  },
  {
   "cell_type": "code",
   "execution_count": 59,
   "metadata": {},
   "outputs": [],
   "source": [
    "#We’ll now add dropout of 50%, another 800-unit dense layer and 50% dropout again:\n",
    "l_hid1_drop = lasagne.layers.DropoutLayer(l_hid1, p=0.5)\n",
    "\n",
    "l_hid2 = lasagne.layers.DenseLayer(\n",
    "        l_hid1_drop, num_units=800,\n",
    "        nonlinearity=lasagne.nonlinearities.rectify)\n",
    "\n",
    "l_hid2_drop = lasagne.layers.DropoutLayer(l_hid2, p=0.5)"
   ]
  },
  {
   "cell_type": "code",
   "execution_count": 63,
   "metadata": {},
   "outputs": [],
   "source": [
    "#Finally, we’ll add the fully-connected output layer. \n",
    "l_out = lasagne.layers.DenseLayer(\n",
    "        l_hid2_drop, num_units=10,\n",
    "        nonlinearity=lasagne.nonlinearities.softmax)"
   ]
  },
  {
   "cell_type": "markdown",
   "metadata": {},
   "source": [
    "# Creating Layers\n",
    "\n",
    "The lasagne.layers module provides various classes representing the layers of a neural network. All of them are subclasses of the lasagne.layers.Layer base class."
   ]
  },
  {
   "cell_type": "code",
   "execution_count": 74,
   "metadata": {},
   "outputs": [],
   "source": [
    "import lasagne\n",
    "l = lasagne.layers.DenseLayer(l_in, num_units=100) \n",
    "#This will create a dense layer with 100 units, connected to another layer l_in."
   ]
  },
  {
   "cell_type": "code",
   "execution_count": 76,
   "metadata": {},
   "outputs": [],
   "source": [
    "#MLP with a single hidden layer:\n",
    "\n",
    "import theano.tensor as T\n",
    "l_in = lasagne.layers.InputLayer((100, 50))\n",
    "l_hidden = lasagne.layers.DenseLayer(l_in, num_units=200)\n",
    "l_out = lasagne.layers.DenseLayer(l_hidden, num_units=10,\n",
    "                                   nonlinearity=T.nnet.softmax)\n",
    "\n",
    "#The first layer of the network is an InputLayer, which represents the input. \n",
    "#When creating an input layer, we should specify the shape of the input data. \n",
    "#In this example, the input is a matrix with shape (100, 50), representing a batch of 100 data points, where each data point is a vector of length 50. \n",
    "#The first dimension of a tensor is usually the batch dimension"
   ]
  },
  {
   "cell_type": "code",
   "execution_count": 77,
   "metadata": {},
   "outputs": [],
   "source": [
    "#We can name a layer by specifying the name keyword argument:\n",
    "\n",
    "l_hidden = lasagne.layers.DenseLayer(l_in, num_units=200,\n",
    "                                   name=\"hidden_layer\")"
   ]
  },
  {
   "cell_type": "markdown",
   "metadata": {},
   "source": [
    "Initializing parameters\n",
    "\n",
    "Many types of layers, such as DenseLayer, have trainable parameters. \n",
    "These are referred to by short names that match the conventions used in modern deep learning literature. \n",
    "For example, a weight matrix will usually be called W, and a bias vector will usually be b."
   ]
  },
  {
   "cell_type": "code",
   "execution_count": 78,
   "metadata": {},
   "outputs": [],
   "source": [
    "l = lasagne.layers.DenseLayer(l_in, num_units=100,\n",
    "                               W=lasagne.init.Normal(0.01))"
   ]
  },
  {
   "cell_type": "code",
   "execution_count": 80,
   "metadata": {},
   "outputs": [],
   "source": [
    "#Theano shared variable\n",
    "#If a shared variable instance is provided, this is used unchanged as the parameter variable.\n",
    "\n",
    "import theano\n",
    "import numpy as np\n",
    "W = theano.shared(np.random.normal(0, 0.01, (50, 100)))\n",
    "l = lasagne.layers.DenseLayer(l_in, num_units=100, W=W)"
   ]
  },
  {
   "cell_type": "markdown",
   "metadata": {},
   "source": [
    "Parameter sharing\n",
    "\n",
    "Parameter sharing between multiple layers can be achieved by using the same Theano shared variable instance for their parameters. "
   ]
  },
  {
   "cell_type": "code",
   "execution_count": 81,
   "metadata": {},
   "outputs": [],
   "source": [
    "l1 = lasagne.layers.DenseLayer(l_in, num_units=100)\n",
    "l2 = lasagne.layers.DenseLayer(l_in, num_units=100, W=l1.W)\n",
    "#These two layers will now share weights"
   ]
  },
  {
   "cell_type": "markdown",
   "metadata": {},
   "source": [
    "Propagating data through layers\n",
    "\n",
    "To compute an expression for the output of a single layer given its input, the get_output_for() method can be used. To compute the output of a network, we should instead call lasagne.layers.get_output() on it. This will traverse the network graph."
   ]
  },
  {
   "cell_type": "code",
   "execution_count": 82,
   "metadata": {},
   "outputs": [],
   "source": [
    "y = lasagne.layers.get_output(l_out)"
   ]
  },
  {
   "cell_type": "markdown",
   "metadata": {},
   "source": [
    "We can also specify a Theano expression to use as input as a second argument to lasagne.layers.get_output():"
   ]
  },
  {
   "cell_type": "code",
   "execution_count": 84,
   "metadata": {},
   "outputs": [],
   "source": [
    "x = T.matrix('x')\n",
    "y = lasagne.layers.get_output(l_out, x)\n",
    "f = theano.function([x], y)"
   ]
  },
  {
   "cell_type": "markdown",
   "metadata": {},
   "source": [
    "Any keyword arguments passed to get_output() are propagated to all layers. This makes it possible to control the behavior of the entire network. The main use case for this is the deterministic keyword argument, which disables stochastic behaviour such as dropout when set to True. This is useful because a deterministic output is desirable at evaluation time."
   ]
  },
  {
   "cell_type": "code",
   "execution_count": 86,
   "metadata": {},
   "outputs": [],
   "source": [
    " y = lasagne.layers.get_output(l_out, deterministic=True)"
   ]
  },
  {
   "cell_type": "markdown",
   "metadata": {},
   "source": [
    "# Creating custom layers\n",
    "\n",
    "To implement a custom layer in Lasagne, we will have to write a Python class that subclasses Layer and implement at least one method: get_output_for(). This method computes the output of the layer given its input. "
   ]
  },
  {
   "cell_type": "code",
   "execution_count": 88,
   "metadata": {},
   "outputs": [],
   "source": [
    "#Simple Layer\n",
    "\n",
    "class DoubleLayer(lasagne.layers.Layer):\n",
    "    def get_output_for(self, input, **kwargs):\n",
    "        return 2 * input"
   ]
  },
  {
   "cell_type": "markdown",
   "metadata": {},
   "source": [
    "A layer that changes the shape\n",
    "\n",
    "if the operation performed by the layer changes the shape of the data, we also need to implement get_output_shape_for(). This method computes the shape of the layer output given the shape of its input."
   ]
  },
  {
   "cell_type": "code",
   "execution_count": 89,
   "metadata": {},
   "outputs": [],
   "source": [
    "class SumLayer(lasagne.layers.Layer):\n",
    "    def get_output_for(self, input, **kwargs):\n",
    "        return input.sum(axis=-1)\n",
    "\n",
    "    def get_output_shape_for(self, input_shape):\n",
    "        return input_shape[:-1]"
   ]
  },
  {
   "cell_type": "markdown",
   "metadata": {},
   "source": [
    "A layer with parameters\n",
    "\n",
    "If the layer has parameters, these should be initialized in the constructor. In Lasagne, parameters are represented by Theano shared variables. A method is provided to create and register parameter variables: lasagne.layers.Layer.add_param().\n",
    "\n",
    "To show how this can be used, here is a layer that multiplies its input by a matrix W. This matrix is a parameter of the layer. The shape of the matrix will be (num_inputs, num_units), where num_inputs is the number of input features and num_units has to be specified when the layer is created."
   ]
  },
  {
   "cell_type": "code",
   "execution_count": 90,
   "metadata": {},
   "outputs": [],
   "source": [
    "class DotLayer(lasagne.layers.Layer):\n",
    "    def __init__(self, incoming, num_units, W=lasagne.init.Normal(0.01), **kwargs):\n",
    "        super(DotLayer, self).__init__(incoming, **kwargs)\n",
    "        num_inputs = self.input_shape[1]\n",
    "        self.num_units = num_units\n",
    "        self.W = self.add_param(W, (num_inputs, num_units), name='W')\n",
    "\n",
    "    def get_output_for(self, input, **kwargs):\n",
    "        return T.dot(input, self.W)\n",
    "\n",
    "    def get_output_shape_for(self, input_shape):\n",
    "        return (input_shape[0], self.num_units)\n",
    "    \n",
    "#The call to self.add_param() creates the Theano shared variable representing the parameter, \n",
    "#and registers it so it can later be retrieved using lasagne.layers.Layer.get_params()."
   ]
  },
  {
   "cell_type": "markdown",
   "metadata": {},
   "source": [
    "A layer with multiple behaviors\n",
    "\n",
    "\n",
    "Some layers can have multiple behaviors. For example, a layer implementing dropout should be able to be switched on or off. During training, we want it to apply dropout noise to its input and scale up the remaining values, but during evaluation we don’t want it to do anything.\n",
    "\n",
    "For this purpose, the get_output_for() method takes optional keyword arguments (kwargs). When get_output() is called to compute an expression for the output of a network, all specified keyword arguments are passed to the get_output_for() methods of all layers in the network.\n",
    "\n",
    "For layers that add noise for regularization purposes, such as dropout, the convention in Lasagne is to use the keyword argument deterministic to control its behavior."
   ]
  },
  {
   "cell_type": "code",
   "execution_count": 95,
   "metadata": {},
   "outputs": [],
   "source": [
    "from theano.sandbox.rng_mrg import MRG_RandomStreams as RandomStreams\n",
    "_srng = RandomStreams()\n",
    "\n",
    "class DropoutLayer(lasagne.layers.Layer):\n",
    "    def __init__(self, incoming, p=0.5, **kwargs):\n",
    "        super(DropoutLayer, self).__init__(incoming, **kwargs)\n",
    "        self.p = p\n",
    "\n",
    "    def get_output_for(self, input, deterministic=False, **kwargs):\n",
    "        if deterministic:  # do nothing in the deterministic case\n",
    "            return input\n",
    "        else:  # add dropout noise otherwise\n",
    "            retain_prob = 1 - self.p\n",
    "            input /= retain_prob\n",
    "            return input * _srng.binomial(input.shape, p=retain_prob,\n",
    "                                          dtype=theano.config.floatX)"
   ]
  },
  {
   "cell_type": "markdown",
   "metadata": {},
   "source": [
    "# Pyrenn\n",
    "\n",
    "pip install pyrenn\n",
    "\n",
    "pyrenn allows to create multilayer perceptron (MLP) neural networks.\n",
    "\n",
    "Creating a neural network with CreateNN()\n",
    "\n",
    "The function CreateNN creates a pyrenn neural network object that can be trained and used. When only nn is given as input, the created neural network will be a MLP with no delayed connections. If a (recurrent) neural network with delays should be created, the parameters dIn, dIntern and/or dOut have to be secified."
   ]
  },
  {
   "cell_type": "markdown",
   "metadata": {},
   "source": [
    "pyrenn.CreateNN(nn, [dIn=[0],dIntern=[ ], dOut=[ ]])\n",
    "\n",
    "Creates a neural network object with random values between -0.5 and 0.5 for the weights.\n",
    "\n",
    "Parameters:\t\n",
    " \n",
    " nn (list) – short notation of the neural network [RS1S2...SM]\n",
    "\n",
    "dIn (list) – Set of input delays of the neural network\n",
    "\n",
    "dIntern (list) – Set of inernal delays of the neural network\n",
    "\n",
    "dOut (list) – Set of output delays of the neural network\n",
    "\n",
    "Returns:\t\n",
    "a pyrenn neural network object\n",
    "\n",
    "\n",
    "The short notation nn which describes the number of inputs, layers, neurons and outputs\n",
    "\n",
    "the input delays dIn of the neural network\n",
    "\n",
    "the output delays dOut of the neural network\n",
    "\n",
    "the internal delays dIntern of the neural network"
   ]
  },
  {
   "cell_type": "markdown",
   "metadata": {},
   "source": [
    "# Train a neural network\n",
    "\n",
    "Once a neural network is created, it can be trained. To train a neural network, training data is required."
   ]
  },
  {
   "cell_type": "markdown",
   "metadata": {},
   "source": [
    "pyrenn.train_LM(P, Y, net[, k_max=100, E_stop=1e-10, dampfac=3.0, dampconst=10.0, verbose = False])                   #train with Levenberg-Marquardt Algorithm"
   ]
  },
  {
   "cell_type": "markdown",
   "metadata": {},
   "source": [
    "Trains the given neural network net with the training data inputs P and outputs (targets) Y using the Levenberg–Marquardt algorithm.\n",
    "\n",
    "Parameters:\t\n",
    "\n",
    "P (numpy.array) – Training input data set P˜, 2d-array of shape (R,Q) with R rows (=number of inputs) and Q columns (=number of training samples)\n",
    "\n",
    "Y (numpy.array) – Training output (target) data set Y˜, 2d-array of shape (SM,Q) with SM rows (=number of outputs) and Q columns (=number of training samples)\n",
    "\n",
    "net (dict) – a pyrenn neural network object created by pyrenn.CreateNN()\n",
    "\n",
    "k_max (int) – maximum number of training iterations (epochs)\n",
    "\n",
    "E_stop (float) – termination error (error goal), training stops when the E≤Estop\n",
    "\n",
    "dampfac (float) – damping factor of the LM algorithm\n",
    "\n",
    "dampconst (float) – constant to adapt damping factor of LM\n",
    "\n",
    "verbose (bool) – activates console outputs during training if True\n",
    "\n",
    "Returns:\t\n",
    "a trained pyrenn neural network object"
   ]
  },
  {
   "cell_type": "markdown",
   "metadata": {},
   "source": [
    "# Calculate neural network outputs with NNOut()"
   ]
  },
  {
   "cell_type": "markdown",
   "metadata": {},
   "source": [
    "pyrenn.NNOut(P, net[, P0=None, Y0=None])"
   ]
  },
  {
   "cell_type": "markdown",
   "metadata": {},
   "source": [
    "Calculates the output of a trained neural network net given the inputs P\n",
    "\n",
    "Parameters:\t\n",
    "\n",
    "P (numpy.array) – Input data set P˜, 2d-array of shape (R,Q) with R rows (=number of inputs) and Q columns (=number of data samples)\n",
    "\n",
    "net (dict) – a pyrenn neural network object\n",
    "\n",
    "P0 (numpy.array) – Previous input data set P0˜, 2d-array of shape (R,Q0) with R rows (=number of inputs) and Q0 columns (=number of previous data samples)\n",
    "\n",
    "Y0 (numpy.array) – previous output data set Y0˜, 2d-array of shape (SM,Q0) with SM rows (=number of outputs) and Q0 columns (=number of previous data samples)\n",
    "\n",
    "Returns:\t\n",
    "Neural network output Y˜^, 2d-array of shape (SM,Q) with SM rows (=number of outputs) and Q columns (=number of input data samples)\n",
    "\n",
    "Return type:\t\n",
    "numpy.array"
   ]
  },
  {
   "cell_type": "markdown",
   "metadata": {},
   "source": [
    "# Save and load a neural network\n",
    "\n",
    "The function saveNN allows to save the structure and the trained weights of a neural network to a csv file. The function loadNN allows to load a saved neural network"
   ]
  },
  {
   "cell_type": "markdown",
   "metadata": {},
   "source": [
    "pyrenn.saveNN(net, filename)"
   ]
  },
  {
   "cell_type": "markdown",
   "metadata": {},
   "source": [
    "Parameters:\t\n",
    "\n",
    "net (dict) – a pyrenn neural network object\n",
    "\n",
    "filename (string) – full or relative path of a csv file to save the neural network (filename = ‘\\folder\\file.csv’)"
   ]
  },
  {
   "cell_type": "markdown",
   "metadata": {},
   "source": [
    "#for Example\n",
    "\n",
    "\n",
    "pyrenn.saveNN(net,'C:\\nn\\mynetwork.csv')//Saving the neural network object net to ‘C:nnmynetwork.csv’"
   ]
  },
  {
   "cell_type": "markdown",
   "metadata": {},
   "source": [
    "Load a neural network with loadNN()"
   ]
  },
  {
   "cell_type": "markdown",
   "metadata": {},
   "source": [
    "pyrenn.loadNN(filename)"
   ]
  },
  {
   "cell_type": "markdown",
   "metadata": {},
   "source": [
    "Parameters:\t\n",
    "\n",
    "filename (string) – full or relative path of a csv file which contains a saved pyrenn neural network (filename = ‘\\folder\\file.csv’)\n",
    "\n",
    "Returns:\ta pyrenn neural network object\n",
    "\n",
    "Return type:\tdict"
   ]
  },
  {
   "cell_type": "markdown",
   "metadata": {},
   "source": [
    "# Example\n",
    "\n",
    "Friction Curve\n",
    "\n",
    "In this example a neural network is used to learn the friction curve of a system, which is given by the following function, where F is the friction force and v is the velocity:\n",
    "\n",
    "F=0.5∗(tanh(25∗v)−tanh(v))+0.2∗tanh(v)+0.03∗v"
   ]
  },
  {
   "cell_type": "code",
   "execution_count": 100,
   "metadata": {},
   "outputs": [],
   "source": [
    "import pandas as pd\n",
    "import matplotlib.pyplot as plt\n",
    "import pyrenn as prn"
   ]
  },
  {
   "cell_type": "code",
   "execution_count": 108,
   "metadata": {},
   "outputs": [],
   "source": [
    "df = pd.ExcelFile('example_data.xlsx').parse('friction') #the training input data P and output (target) data Y as well as \n",
    "                            #the test input data Ptest and output data Ytest is read from the given excel file using pandas. \n",
    "P = df.loc[0:40]['P']\n",
    "Y = df.loc[0:40]['Y']\n",
    "Ptest = df['Ptest'].values\n",
    "Ytest = df['Ytest'].values"
   ]
  },
  {
   "cell_type": "code",
   "execution_count": 109,
   "metadata": {},
   "outputs": [],
   "source": [
    "net = prn.CreateNN([1,3,3,1]) # the neural network with two hidden layers, each with 3 neurons is created. "
   ]
  },
  {
   "cell_type": "code",
   "execution_count": 110,
   "metadata": {},
   "outputs": [
    {
     "name": "stdout",
     "output_type": "stream",
     "text": [
      "Iteration:  0 \t\tError:  15.021867300119064 \tscale factor:  3.0\n",
      "Iteration:  1 \t\tError:  5.669566586192403 \tscale factor:  0.3\n",
      "Iteration:  2 \t\tError:  1.819759057948063 \tscale factor:  0.3\n",
      "Iteration:  3 \t\tError:  0.5319538671160481 \tscale factor:  0.03\n",
      "Iteration:  4 \t\tError:  0.44429085943496266 \tscale factor:  0.03\n",
      "Iteration:  5 \t\tError:  0.39590821136470356 \tscale factor:  0.03\n",
      "Iteration:  6 \t\tError:  0.3948143849124566 \tscale factor:  0.003\n",
      "Iteration:  7 \t\tError:  0.2850912014865205 \tscale factor:  0.003\n",
      "Iteration:  8 \t\tError:  0.2750421554838613 \tscale factor:  0.03\n",
      "Iteration:  9 \t\tError:  0.2668726095398714 \tscale factor:  0.03\n",
      "Iteration:  10 \t\tError:  0.25849000143369777 \tscale factor:  0.03\n",
      "Iteration:  11 \t\tError:  0.24947642842193699 \tscale factor:  0.03\n",
      "Iteration:  12 \t\tError:  0.23950796220945308 \tscale factor:  0.03\n",
      "Iteration:  13 \t\tError:  0.2282749794722926 \tscale factor:  0.03\n",
      "Iteration:  14 \t\tError:  0.21547617218674261 \tscale factor:  0.03\n",
      "Iteration:  15 \t\tError:  0.20089640237450973 \tscale factor:  0.03\n",
      "Iteration:  16 \t\tError:  0.18455965132811666 \tscale factor:  0.03\n",
      "Iteration:  17 \t\tError:  0.16696539936521437 \tscale factor:  0.03\n",
      "Iteration:  18 \t\tError:  0.14706718615065137 \tscale factor:  0.003\n",
      "Iteration:  19 \t\tError:  0.127572958924977 \tscale factor:  0.00030000000000000003\n",
      "Iteration:  20 \t\tError:  0.036775124838665234 \tscale factor:  0.00030000000000000003\n",
      "Iteration:  21 \t\tError:  0.01119077844002627 \tscale factor:  0.00030000000000000003\n",
      "Iteration:  22 \t\tError:  0.004492619864620003 \tscale factor:  0.003\n",
      "Iteration:  23 \t\tError:  0.0041854032498722625 \tscale factor:  0.003\n",
      "Iteration:  24 \t\tError:  0.003897420656727693 \tscale factor:  0.003\n",
      "Iteration:  25 \t\tError:  0.00361563274507709 \tscale factor:  0.003\n",
      "Iteration:  26 \t\tError:  0.00334145080188716 \tscale factor:  0.003\n",
      "Iteration:  27 \t\tError:  0.0030760705272946894 \tscale factor:  0.003\n",
      "Iteration:  28 \t\tError:  0.00282121596808586 \tscale factor:  0.003\n",
      "Iteration:  29 \t\tError:  0.0025789236103363478 \tscale factor:  0.003\n",
      "Iteration:  30 \t\tError:  0.0023511595145468615 \tscale factor:  0.003\n",
      "Iteration:  31 \t\tError:  0.0021394719011077526 \tscale factor:  0.003\n",
      "Iteration:  32 \t\tError:  0.0019447695085587308 \tscale factor:  0.003\n",
      "Iteration:  33 \t\tError:  0.0017672555963632393 \tscale factor:  0.003\n",
      "Iteration:  34 \t\tError:  0.0016064956699976735 \tscale factor:  0.003\n",
      "Iteration:  35 \t\tError:  0.0014615674458718546 \tscale factor:  0.003\n",
      "Iteration:  36 \t\tError:  0.001331238119412895 \tscale factor:  0.003\n",
      "Iteration:  37 \t\tError:  0.0012141277643443731 \tscale factor:  0.003\n",
      "Iteration:  38 \t\tError:  0.0011088367735677482 \tscale factor:  0.003\n",
      "Iteration:  39 \t\tError:  0.0010140315107356372 \tscale factor:  0.003\n",
      "Iteration:  40 \t\tError:  0.000928492629335886 \tscale factor:  0.003\n",
      "Iteration:  41 \t\tError:  0.0008511350853651536 \tscale factor:  0.003\n",
      "Iteration:  42 \t\tError:  0.0007810094404764168 \tscale factor:  0.003\n",
      "Iteration:  43 \t\tError:  0.0007172925025861682 \tscale factor:  0.003\n",
      "Iteration:  44 \t\tError:  0.0006592730999939403 \tscale factor:  0.003\n",
      "Iteration:  45 \t\tError:  0.0006063366619152412 \tscale factor:  0.003\n",
      "Iteration:  46 \t\tError:  0.0005579506333500664 \tscale factor:  0.003\n",
      "Iteration:  47 \t\tError:  0.0005136516388849122 \tscale factor:  0.003\n",
      "Iteration:  48 \t\tError:  0.0004730346410932824 \tscale factor:  0.003\n",
      "Iteration:  49 \t\tError:  0.0004357439875354197 \tscale factor:  0.003\n",
      "Iteration:  50 \t\tError:  0.00040146608992641203 \tscale factor:  0.003\n",
      "Iteration:  51 \t\tError:  0.00036992344276980186 \tscale factor:  0.003\n",
      "Iteration:  52 \t\tError:  0.00034086970907501674 \tscale factor:  0.003\n",
      "Iteration:  53 \t\tError:  0.0003140856434172907 \tscale factor:  0.003\n",
      "Iteration:  54 \t\tError:  0.00028937566923750767 \tscale factor:  0.003\n",
      "Iteration:  55 \t\tError:  0.0002665649694344412 \tscale factor:  0.003\n",
      "Iteration:  56 \t\tError:  0.0002454969840076403 \tscale factor:  0.003\n",
      "Iteration:  57 \t\tError:  0.00023621691366374636 \tscale factor:  0.00030000000000000003\n",
      "Iteration:  58 \t\tError:  7.891192137721465e-05 \tscale factor:  0.00030000000000000003\n",
      "Iteration:  59 \t\tError:  3.432319894309511e-05 \tscale factor:  0.00030000000000000003\n",
      "Iteration:  60 \t\tError:  2.014638426136875e-05 \tscale factor:  3.0000000000000004e-05\n",
      "Iteration:  61 \t\tError:  8.442513036647075e-06 \tscale factor:  3.0000000000000004e-05\n",
      "Termination Error reached\n"
     ]
    }
   ],
   "source": [
    "net = prn.train_LM(P,Y,net,verbose=True,k_max=100,E_stop=1e-5)\n",
    "\n",
    "#Now we can train the created neural network net with the training data P and Y. \n",
    "#verbose=True activates diplaying the error during training."
   ]
  },
  {
   "cell_type": "code",
   "execution_count": 111,
   "metadata": {},
   "outputs": [],
   "source": [
    "y = prn.NNOut(P,net)\n",
    "ytest = prn.NNOut(Ptest,net)\n",
    "\n",
    "# We calculate the neural network output y, \n",
    "#using the training data P as input as well as the the output ytest, using the test data Ptest as input."
   ]
  },
  {
   "cell_type": "code",
   "execution_count": 112,
   "metadata": {},
   "outputs": [
    {
     "data": {
      "image/png": "[encoded data removed]",
      "text/plain": [
       "<Figure size 792x504 with 2 Axes>"
      ]
     },
     "metadata": {
      "needs_background": "light"
     },
     "output_type": "display_data"
    }
   ],
   "source": [
    "# plotting the results, comparing the output of the neural network with the training and the test data of the system.\n",
    "\n",
    "fig = plt.figure(figsize=(11,7))\n",
    "ax0 = fig.add_subplot(211)\n",
    "ax1 = fig.add_subplot(212)\n",
    "fs=18\n",
    "\n",
    "#Train Data\n",
    "ax0.set_title('Train Data',fontsize=fs)\n",
    "ax0.plot(P,y,color='b',lw=2,label='NN Output')\n",
    "ax0.plot(P,Y,color='r',marker='None',linestyle=':',lw=3,markersize=8,label='Train Data')\n",
    "ax0.tick_params(labelsize=fs-2)\n",
    "ax0.legend(fontsize=fs-2,loc='upper left')\n",
    "ax0.grid()\n",
    "\n",
    "#Test Data\n",
    "ax1.set_title('Test Data',fontsize=fs)\n",
    "ax1.plot(Ptest,ytest,color='b',lw=2,label='NN Output')\n",
    "ax1.plot(Ptest,Ytest,color='r',marker='None',linestyle=':',lw=3,markersize=8,label='Test Data')\n",
    "ax1.tick_params(labelsize=fs-2)\n",
    "ax1.legend(fontsize=fs-2,loc='upper left')\n",
    "ax1.grid()\n",
    "\n",
    "fig.tight_layout()\n",
    "plt.show()"
   ]
  },
  {
   "cell_type": "markdown",
   "metadata": {},
   "source": [
    "# ffnet\n",
    "\n",
    "pip install ffnet"
   ]
  },
  {
   "cell_type": "markdown",
   "metadata": {},
   "source": [
    "Main ffnet class\n",
    "\n",
    "\n",
    "class ffnet.ffnet(conec, lazy_derivative=True)\n",
    "\n",
    "Feed-forward neural network main class.\n",
    "\n",
    "Parameters:\n",
    "\n",
    "conec : list of tuples\n",
    "\n",
    "List of network connections\n",
    "\n",
    "lazy_derivative : bool\n",
    "\n",
    "If True all data necessary for derivatives calculation are generated only on demand.\n",
    "\n",
    "Returns:\n",
    "\n",
    "net\n",
    "Feed forward network object\n",
    "\n",
    "Example\n",
    "\n",
    "from ffnet import mlgraph, ffnet\n",
    "\n",
    "conec = mlgraph((2,2,1))\n",
    "\n",
    "net = ffnet(conec)"
   ]
  },
  {
   "cell_type": "markdown",
   "metadata": {},
   "source": [
    "# call(inp)\n",
    "\n",
    "Calculates network answer to given input.\n",
    "\n",
    "Parameters:\t\n",
    "inp : array\n",
    "\n",
    "2D array of input patterns (or 1D for single pattern)\n",
    "\n",
    "Returns:\t\n",
    "ans : array\n",
    "\n",
    "1D or 2D array of calculated network outputs"
   ]
  },
  {
   "cell_type": "markdown",
   "metadata": {},
   "source": [
    "# derivative(inp)\n",
    "\n",
    "Returns partial derivatives of the network’s output vs its input.\n",
    "\n",
    "For each input pattern an array of the form:\n",
    "\n",
    "\n",
    "| o1/i1, o1/i2, ..., o1/in |\n",
    "\n",
    "| o2/i1, o2/i2, ..., o2/in |\n",
    "\n",
    "| ...                      |\n",
    "\n",
    "| om/i1, om/i2, ..., om/in |\n",
    "\n",
    "is returned.\n",
    "\n",
    "Parameters:\t\n",
    "\n",
    "inp : array\n",
    "2D array of input patterns (or 1D for single pattern)\n",
    "\n",
    "Returns:\t\n",
    "ans : array\n",
    "1D or 2D array of calculated network outputs"
   ]
  },
  {
   "cell_type": "markdown",
   "metadata": {},
   "source": [
    "from ffnet import mlgraph, ffnet\n",
    "\n",
    "conec = mlgraph((3,3,2))\n",
    "\n",
    "net = ffnet(conec); net.weights[:] = 1.\n",
    "\n",
    "net.derivative([0., 0., 0.])\n",
    "\n",
    "array([[ 0.02233658,  0.02233658,  0.02233658],\n",
    "       [ 0.02233658,  0.02233658,  0.02233658]])"
   ]
  },
  {
   "cell_type": "markdown",
   "metadata": {},
   "source": [
    "test(input, target, iprint=1, filename=None)\n",
    "\n",
    "Calculates output and parameters of regression.\n",
    "\n",
    "Parameters:\n",
    "    \n",
    "input : 2-D array\n",
    "    \n",
    "Array of input patterns\n",
    "\n",
    "target : 2-D array\n",
    "    \n",
    "Array of network targets\n",
    "\n",
    "iprint : {0, 1, 2}, optional\n",
    "    \n",
    "Verbosity level: 0 – print nothing, 1 – print regression parameters for each output node (default), 2 – print additionaly general network info and all targets vs. outputs\n",
    "\n",
    "filename : str\n",
    "    \n",
    "Path to the file where printed messages are redirected Default is None\n",
    "\n",
    "Returns:\n",
    "    \n",
    "out : tuple\n",
    "    \n",
    "(output, regress) tuple where: output is an array of network answers on input patterns and regress contains regression parameters for each output node. These parameters are: slope, intercept, r-value, p-value, stderr-of-slope, stderr-of-estimate."
   ]
  },
  {
   "cell_type": "markdown",
   "metadata": {},
   "source": [
    "Examples:\t\n",
    "    \n",
    "from ffnet import mlgraph, ffnet\n",
    "\n",
    "from numpy.random import rand\n",
    "\n",
    "conec = mlgraph((3,3,2))\n",
    "\n",
    "net = ffnet(conec)\n",
    "\n",
    "input = rand(50,3); target = rand(50,2)\n",
    "\n",
    "output, regress = net.test(input, target)\n",
    "\n",
    "Testing results for 50 testing cases:\n",
    "    \n",
    "OUTPUT 1 (node nr 8):\n",
    "    \n",
    "Regression line parameters:\n",
    "    \n",
    "slope         = -0.000649\n",
    "\n",
    "intercept     =  0.741282\n",
    "\n",
    "r-value       = -0.021853\n",
    "\n",
    "p-value       =  0.880267\n",
    "\n",
    "slope stderr  =  0.004287\n",
    "\n",
    "estim. stderr =  0.009146\n",
    ".\n",
    "OUTPUT 2 (node nr 7):\n",
    "    \n",
    "Regression line parameters:\n",
    "    \n",
    "slope         =  0.005536\n",
    "\n",
    "intercept     =  0.198818\n",
    "\n",
    "r-value       =  0.285037\n",
    "\n",
    "p-value       =  0.044816\n",
    "\n",
    "slope stderr  =  0.002687\n",
    "\n",
    "estim. stderr =  0.005853"
   ]
  },
  {
   "cell_type": "markdown",
   "metadata": {},
   "source": [
    "# Utility functions\n",
    "\n",
    "ffnet.savenet(net, filename)\n",
    "\n",
    "Dumps network to a file using cPickle.\n",
    "\n",
    "Parameters:\t\n",
    "\n",
    "net : ffnet\n",
    "\n",
    "Intance of the network\n",
    "\n",
    "filename : str\n",
    "\n",
    "Path to the file where network is dumped\n",
    "\n"
   ]
  },
  {
   "cell_type": "markdown",
   "metadata": {},
   "source": [
    "ffnet.loadnet(filename)\n",
    "\n",
    "Loads network pickled previously with savenet.\n",
    "\n",
    "Parameters:\t\n",
    "    \n",
    "filename : str\n",
    "    \n",
    "Path to the file with saved network\n",
    "\n"
   ]
  },
  {
   "cell_type": "markdown",
   "metadata": {},
   "source": [
    "ffnet.exportnet(net, filename, name='ffnet', lang=None, derivative=True)\n",
    "\n",
    "Exports network to a compiled language source code.\n",
    "\n",
    "Parameters:\n",
    "    \n",
    "filename : str\n",
    "    \n",
    "Path to the file where network is exported\n",
    "\n",
    "name : str\n",
    "    \n",
    "Name of the exported function\n",
    "\n",
    "lang : str\n",
    "    \n",
    "Language to which network is to be exported. Currently only Fortran is supported\n",
    "\n",
    "derivative : bool\n",
    "    \n",
    "If True a function for derivative calculation is also exported. It is named as name with prefix ‘d’"
   ]
  },
  {
   "cell_type": "markdown",
   "metadata": {},
   "source": [
    "ffnet.readdata(filename, **kwargs)\n",
    "\n",
    "Reads arrays from ASCII files."
   ]
  },
  {
   "cell_type": "code",
   "execution_count": null,
   "metadata": {},
   "outputs": [],
   "source": []
  }
 ],
 "metadata": {
  "kernelspec": {
   "display_name": "Python 3",
   "language": "python",
   "name": "python3"
  },
  "language_info": {
   "codemirror_mode": {
    "name": "ipython",
    "version": 3
   },
   "file_extension": ".py",
   "mimetype": "text/x-python",
   "name": "python",
   "nbconvert_exporter": "python",
   "pygments_lexer": "ipython3",
   "version": "3.8.5"
  }
 },
 "nbformat": 4,
 "nbformat_minor": 2
}
