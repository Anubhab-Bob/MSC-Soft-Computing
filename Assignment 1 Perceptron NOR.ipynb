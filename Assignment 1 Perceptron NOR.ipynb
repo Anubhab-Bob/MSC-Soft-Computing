{
 "cells": [
  {
   "cell_type": "markdown",
   "id": "lesser-nightmare",
   "metadata": {},
   "source": [
    "# Write a python script to realize 3 inputs bipolar NOR gate using perceptron\n",
    "The following code trains a percepton neural metwork model to realize 3-inputs bipolar NOR gate. The perceptron model has a bias input = 1 and a random bias weight. The value of the learning rate and theta can be given at runtime. The code uses the Numpy package extensively for matrix computations. The accuracy (0% or 100%) of the model on testing data is also calculated and displayed ."
   ]
  },
  {
   "cell_type": "code",
   "execution_count": 1,
   "id": "after-partner",
   "metadata": {},
   "outputs": [],
   "source": [
    "# import necessary libraries\n",
    "import numpy as np"
   ]
  },
  {
   "cell_type": "code",
   "execution_count": 2,
   "id": "ambient-diesel",
   "metadata": {},
   "outputs": [],
   "source": [
    "# Function to train the perceptron model to realise  NOR gate\n",
    "def learn(inputs, target, weight, theta, lr=0.01):\n",
    "    yout = np.zeros(8, dtype=int)\n",
    "    yin = 0\n",
    "    epoch = 1\n",
    "    print(\"\\n========== THE LEARNING PHASE ==========\\n\")\n",
    "    while True:\n",
    "        print(\"========= EPOCH \",epoch,\"=========\")     \n",
    "        for i in range(8):          \n",
    "            x = inputs[i] # takes each training set one by one\n",
    "            yin = 0  # reset yin\n",
    "            # Calculate net input\n",
    "            yin = np.dot(x.T, weight)\n",
    "            yin = yin.item()    # Get Python datatype value from scalar Numpy array\n",
    "            # Calculate output\n",
    "            if yin > theta:\n",
    "                #print(\"************ Greater\")\n",
    "                np.put(yout,i,1)\n",
    "            elif yin < (-theta):\n",
    "                #print(\"************ Lesser\")\n",
    "                np.put(yout,i,-1)\n",
    "            else:\n",
    "                #print(\"************ Middle\")\n",
    "                np.put(yout,i,0)\n",
    "            #print(\"net output -         \",yout[i])\n",
    "            # Check for error\n",
    "            if yout[i] != target[i]:\n",
    "                for j in range(4):\n",
    "                    weight[j] += lr*target[i]*x[j]  # update weights if error exists\n",
    "        epoch += 1\n",
    "        # Display the weights and outputs generated in this epoch\n",
    "        print(\"Weights : \")\n",
    "        print(np.array2string(np.float_(([ '%.3f' % elem for elem in weight ])), separator=', '))\n",
    "        print(\"Outputs : \")\n",
    "        print(yout)\n",
    "        if np.array_equal(target,yout):\n",
    "            break  # Terminate loop if every output matches with correspondingtarget\n",
    "    print(\"\\n=============================\\nThe Target was : \")\n",
    "    print(target)\n",
    "    print(\"The Final Outputs are : \")\n",
    "    print(yout)\n",
    "    print(\"The Final Weights are : \")\n",
    "    print(np.array2string(np.float_(([ '%.3f' % elem for elem in weight ])), separator=', '))\n",
    "    print(\"\\n=============================\\n\")\n",
    "    return weight"
   ]
  },
  {
   "cell_type": "code",
   "execution_count": 3,
   "id": "worldwide-style",
   "metadata": {},
   "outputs": [],
   "source": [
    "# Function to calculate the accuracy of the model\n",
    "def get_accuracy(test_inp, test_out, true_inp, true_out):\n",
    "    index = -1\n",
    "    for i in range(8):\n",
    "        if((true_inp[i] == test_inp).all()):\n",
    "            index = i\n",
    "            break\n",
    "        #index = np.where((true_inp[i] == test_inp).all())\n",
    "    accuracy = test_out == true_out[index]\n",
    "    return accuracy"
   ]
  },
  {
   "cell_type": "code",
   "execution_count": 4,
   "id": "operating-toner",
   "metadata": {},
   "outputs": [
    {
     "name": "stdout",
     "output_type": "stream",
     "text": [
      "Enter the learning rate >> 1\n",
      "Enter the value of theta >> 1\n",
      "Initial Weights :  [ 0.12373354  0.49783323 -0.90658615 -1.01653372]\n"
     ]
    }
   ],
   "source": [
    "# Initialise the perceptron model\n",
    "weights = np.random.randn(4)  # weights along with bias weight\n",
    "bias = 1  # bias input\n",
    "l = float(input(\"Enter the learning rate >> \"))  # learning rate of the perceptron\n",
    "theta = float(input(\"Enter the value of theta >> \"))  # theta value of the perceptron\n",
    "print(\"Initial Weights : \",weights)"
   ]
  },
  {
   "cell_type": "code",
   "execution_count": 5,
   "id": "italic-thunder",
   "metadata": {},
   "outputs": [],
   "source": [
    "# 3 bit binary data for 3 i/p NOR gate\n",
    "inp = np.array([ \n",
    "    [-1, -1, -1], \n",
    "    [-1, -1, 1], \n",
    "    [-1, 1, -1], \n",
    "    [-1, 1, 1], \n",
    "    [1, -1, -1], \n",
    "    [1, -1, 1], \n",
    "    [1, 1, -1], \n",
    "    [1, 1, 1] \n",
    "])\n",
    "target = np.array(\n",
    "    [1, -1, -1, -1, -1, -1, -1, -1]\n",
    ")"
   ]
  },
  {
   "cell_type": "code",
   "execution_count": 6,
   "id": "printable-soldier",
   "metadata": {},
   "outputs": [],
   "source": [
    "# Append bias input\n",
    "inp = np.insert(inp,0,1,axis = 1)"
   ]
  },
  {
   "cell_type": "code",
   "execution_count": 7,
   "id": "decent-generator",
   "metadata": {},
   "outputs": [
    {
     "name": "stdout",
     "output_type": "stream",
     "text": [
      "\n",
      "========== THE LEARNING PHASE ==========\n",
      "\n",
      "========= EPOCH  1 =========\n",
      "Weights : \n",
      "[-2.876,  1.498,  0.093, -0.017]\n",
      "Outputs : \n",
      "[ 1  0  0 -1  1 -1 -1 -1]\n",
      "========= EPOCH  2 =========\n",
      "Weights : \n",
      "[-2.876, -0.502,  0.093, -0.017]\n",
      "Outputs : \n",
      "[-1 -1 -1 -1  0 -1 -1 -1]\n",
      "========= EPOCH  3 =========\n",
      "Weights : \n",
      "[-3.876,  0.498, -0.907, -1.017]\n",
      "Outputs : \n",
      "[-1  0  0 -1 -1 -1 -1 -1]\n",
      "========= EPOCH  4 =========\n",
      "Weights : \n",
      "[-3.876, -1.502, -0.907, -1.017]\n",
      "Outputs : \n",
      "[-1 -1 -1 -1  0 -1 -1 -1]\n",
      "========= EPOCH  5 =========\n",
      "Weights : \n",
      "[-4.876, -0.502, -1.907, -2.017]\n",
      "Outputs : \n",
      "[ 0  0  0 -1 -1 -1 -1 -1]\n",
      "========= EPOCH  6 =========\n",
      "Weights : \n",
      "[-4.876, -2.502, -1.907, -2.017]\n",
      "Outputs : \n",
      "[ 0 -1 -1 -1  0 -1 -1 -1]\n",
      "========= EPOCH  7 =========\n",
      "Weights : \n",
      "[-4.876, -2.502, -1.907, -2.017]\n",
      "Outputs : \n",
      "[ 1 -1 -1 -1 -1 -1 -1 -1]\n",
      "\n",
      "=============================\n",
      "The Target was : \n",
      "[ 1 -1 -1 -1 -1 -1 -1 -1]\n",
      "The Final Outputs are : \n",
      "[ 1 -1 -1 -1 -1 -1 -1 -1]\n",
      "The Final Weights are : \n",
      "[-4.876, -2.502, -1.907, -2.017]\n",
      "\n",
      "=============================\n",
      "\n"
     ]
    }
   ],
   "source": [
    "#weights = np.zeros(4)\n",
    "weights = learn(inp, target, weights, theta, l)  # Train the model"
   ]
  },
  {
   "cell_type": "code",
   "execution_count": 10,
   "id": "north-simple",
   "metadata": {},
   "outputs": [
    {
     "name": "stdout",
     "output_type": "stream",
     "text": [
      "\n",
      "========== THE TESTING PHASE ==========\n",
      "\n",
      "ENTER THE INPUT >> -1\n",
      "ENTER THE INPUT >> 1\n",
      "ENTER THE INPUT >> 1\n",
      "Input : \n",
      " [-1  1  1]\n",
      "Output :  -1\n",
      "Accuracy of model : 100.00%\n"
     ]
    }
   ],
   "source": [
    "print(\"\\n========== THE TESTING PHASE ==========\\n\")\n",
    "# Initialise test input\n",
    "n = np.ones(4)\n",
    "for i in range(1,4):\n",
    "    np.put(n,i,int(input(\"ENTER THE INPUT >> \")))\n",
    "# Calculate net input\n",
    "y_in = np.sum(np.dot(n.T, weights))\n",
    "#print(yin)\n",
    "y_in = y_in.item()  # Get Python datatype value from scalar Numpy array\n",
    "# Calculate output\n",
    "if y_in > theta:\n",
    "    yout = 1\n",
    "elif y_in < (-theta):\n",
    "    yout = -1\n",
    "else:\n",
    "    yout = 0\n",
    "    \n",
    "# Display results\n",
    "n = n.astype('int32')\n",
    "print(\"Input : \\n\",n[1:])\n",
    "print(\"Output : \",yout)\n",
    "\n",
    "accuracy = get_accuracy(n,yout, inp, target) * 100\n",
    "print(\"Accuracy of model : %3.2f\"%accuracy+\"%\")"
   ]
  }
 ],
 "metadata": {
  "kernelspec": {
   "display_name": "Python 3",
   "language": "python",
   "name": "python3"
  },
  "language_info": {
   "codemirror_mode": {
    "name": "ipython",
    "version": 3
   },
   "file_extension": ".py",
   "mimetype": "text/x-python",
   "name": "python",
   "nbconvert_exporter": "python",
   "pygments_lexer": "ipython3",
   "version": "3.8.5"
  }
 },
 "nbformat": 4,
 "nbformat_minor": 5
}
