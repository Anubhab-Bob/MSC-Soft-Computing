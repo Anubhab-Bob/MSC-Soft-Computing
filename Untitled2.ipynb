{
 "cells": [
  {
   "cell_type": "markdown",
   "id": "champion-mambo",
   "metadata": {},
   "source": [
    "# Write a python script to train a 4-3-3-2 feed forward neural network using back propagation learning where the training pattern is {1,0,1,1} and output is (0,1}.\n",
    "The following code trains a multilayer feed-forward neural network using the back propagation algorithm . It iteratively learns a set of weights for prediction of the class label of tuples. A multilayer feed-forward neural network consists of an input layer, one or more hidden layers, and an output layer. For the given problem the layers and inputs are static and hard coded. The momentum is set to 0.3 which introduces some balancing in the update between the eigenvectors associated to lower and larger eigenvalues allowing the attenuation of oscillations in the gradient descent."
   ]
  },
  {
   "cell_type": "code",
   "execution_count": 10,
   "id": "finite-iceland",
   "metadata": {},
   "outputs": [],
   "source": [
    "# import necessary libraries\n",
    "from neuralnetwork.FeedForward import FeedForward\n",
    "from neuralnetwork.Sigmoid import Sigmoid\n",
    "from neuralnetwork.Backpropagation import Backpropagation\n",
    "import numpy as np\n",
    "sigmoid = Sigmoid()"
   ]
  },
  {
   "cell_type": "code",
   "execution_count": 11,
   "id": "impaired-ticket",
   "metadata": {},
   "outputs": [
    {
     "name": "stdout",
     "output_type": "stream",
     "text": [
      "Enter the learning rate : 0.3\n"
     ]
    }
   ],
   "source": [
    "# Build the model\n",
    "networkLayer = [4,3,3,2]\n",
    "feedForward = FeedForward(networkLayer, sigmoid)\n",
    "lr = float(input(\"Enter the learning rate : \"))\n",
    "backpropagation = Backpropagation(feedForward,lr,0.3)"
   ]
  },
  {
   "cell_type": "code",
   "execution_count": 12,
   "id": "pharmaceutical-ethics",
   "metadata": {},
   "outputs": [],
   "source": [
    "# Train the model\n",
    "trainingSet = [\n",
    "    [1,0,1,1,0,1]\n",
    "  ]\n",
    "while True:\n",
    "    backpropagation.initialise()\n",
    "    result = backpropagation.train(trainingSet)\n",
    "    if(result):\n",
    "        break"
   ]
  },
  {
   "cell_type": "code",
   "execution_count": 13,
   "id": "convinced-behavior",
   "metadata": {},
   "outputs": [
    {
     "name": "stdout",
     "output_type": "stream",
     "text": [
      "Expected Output:  [0 1]\n",
      "Actual Output:  [0.07037007 0.92966936]\n",
      "Accuracy:\n",
      "92.96%\n"
     ]
    }
   ],
   "source": [
    "# Test the model\n",
    "feedForward.activate([1,0,1,1])\n",
    "outputs = np.array(feedForward.getOutputs())\n",
    "\n",
    "label = np.array(trainingSet[0][4:])\n",
    "#Display the true and generated outputs\n",
    "print(\"Expected Output: \",label)\n",
    "print(\"Actual Output: \", outputs)\n",
    "error = [abs(i) for i in label-outputs]  # Calculate the final error\n",
    "accuracy = np.mean([1-i for i in error]) * 100  # Calculate the accuracy %\n",
    "print(\"Accuracy:\\n%4.2f\"%accuracy+\"%\")"
   ]
  }
 ],
 "metadata": {
  "kernelspec": {
   "display_name": "Python 3",
   "language": "python",
   "name": "python3"
  },
  "language_info": {
   "codemirror_mode": {
    "name": "ipython",
    "version": 3
   },
   "file_extension": ".py",
   "mimetype": "text/x-python",
   "name": "python",
   "nbconvert_exporter": "python",
   "pygments_lexer": "ipython3",
   "version": "3.8.5"
  }
 },
 "nbformat": 4,
 "nbformat_minor": 5
}
