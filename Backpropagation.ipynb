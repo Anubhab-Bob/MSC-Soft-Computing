{
 "cells": [
  {
   "cell_type": "code",
   "execution_count": null,
   "id": "personal-shade",
   "metadata": {},
   "outputs": [],
   "source": [
    "mze-bqaw-uji"
   ]
  },
  {
   "cell_type": "code",
   "execution_count": 1,
   "id": "qualified-wound",
   "metadata": {},
   "outputs": [],
   "source": [
    "import numpy as np\n",
    "import matplotlib.pyplot as plt\n",
    "import pandas as pd"
   ]
  },
  {
   "cell_type": "markdown",
   "id": "apart-confirmation",
   "metadata": {},
   "source": [
    "Generating random dataset"
   ]
  },
  {
   "cell_type": "code",
   "execution_count": 15,
   "id": "phantom-radius",
   "metadata": {},
   "outputs": [],
   "source": [
    "X = np.vstack([(np.random.rand(10, 4)*5),(np.random.rand(10, 4)*10)])\n",
    "Y = np.hstack([[0]*10 , [1]*10])\n",
    "dataset = pd.DataFrame(X,columns={\"X1\",\"X2\",\"X3\",\"X4\"})\n",
    "dataset[\"Y\"] =Y"
   ]
  },
  {
   "cell_type": "markdown",
   "id": "mounted-anime",
   "metadata": {},
   "source": [
    "Random DataSet Generated"
   ]
  },
  {
   "cell_type": "code",
   "execution_count": 16,
   "id": "numerous-elevation",
   "metadata": {},
   "outputs": [
    {
     "data": {
      "text/html": [
       "<div>\n",
       "<style scoped>\n",
       "    .dataframe tbody tr th:only-of-type {\n",
       "        vertical-align: middle;\n",
       "    }\n",
       "\n",
       "    .dataframe tbody tr th {\n",
       "        vertical-align: top;\n",
       "    }\n",
       "\n",
       "    .dataframe thead th {\n",
       "        text-align: right;\n",
       "    }\n",
       "</style>\n",
       "<table border=\"1\" class=\"dataframe\">\n",
       "  <thead>\n",
       "    <tr style=\"text-align: right;\">\n",
       "      <th></th>\n",
       "      <th>X4</th>\n",
       "      <th>X2</th>\n",
       "      <th>X3</th>\n",
       "      <th>X1</th>\n",
       "      <th>Y</th>\n",
       "    </tr>\n",
       "  </thead>\n",
       "  <tbody>\n",
       "    <tr>\n",
       "      <th>0</th>\n",
       "      <td>1.982739</td>\n",
       "      <td>1.820535</td>\n",
       "      <td>2.304260</td>\n",
       "      <td>3.643182</td>\n",
       "      <td>0</td>\n",
       "    </tr>\n",
       "    <tr>\n",
       "      <th>1</th>\n",
       "      <td>0.904548</td>\n",
       "      <td>4.996817</td>\n",
       "      <td>3.982412</td>\n",
       "      <td>0.304621</td>\n",
       "      <td>0</td>\n",
       "    </tr>\n",
       "    <tr>\n",
       "      <th>2</th>\n",
       "      <td>0.342628</td>\n",
       "      <td>3.583947</td>\n",
       "      <td>0.314388</td>\n",
       "      <td>4.815050</td>\n",
       "      <td>0</td>\n",
       "    </tr>\n",
       "    <tr>\n",
       "      <th>3</th>\n",
       "      <td>0.885574</td>\n",
       "      <td>3.564717</td>\n",
       "      <td>4.762095</td>\n",
       "      <td>1.370460</td>\n",
       "      <td>0</td>\n",
       "    </tr>\n",
       "    <tr>\n",
       "      <th>4</th>\n",
       "      <td>1.410080</td>\n",
       "      <td>2.759004</td>\n",
       "      <td>2.607243</td>\n",
       "      <td>0.302950</td>\n",
       "      <td>0</td>\n",
       "    </tr>\n",
       "    <tr>\n",
       "      <th>5</th>\n",
       "      <td>4.673567</td>\n",
       "      <td>4.289623</td>\n",
       "      <td>1.631413</td>\n",
       "      <td>1.202430</td>\n",
       "      <td>0</td>\n",
       "    </tr>\n",
       "    <tr>\n",
       "      <th>6</th>\n",
       "      <td>3.971476</td>\n",
       "      <td>1.110797</td>\n",
       "      <td>0.538714</td>\n",
       "      <td>3.988972</td>\n",
       "      <td>0</td>\n",
       "    </tr>\n",
       "    <tr>\n",
       "      <th>7</th>\n",
       "      <td>3.122853</td>\n",
       "      <td>0.446187</td>\n",
       "      <td>4.042823</td>\n",
       "      <td>2.073862</td>\n",
       "      <td>0</td>\n",
       "    </tr>\n",
       "    <tr>\n",
       "      <th>8</th>\n",
       "      <td>4.714165</td>\n",
       "      <td>3.039278</td>\n",
       "      <td>0.474589</td>\n",
       "      <td>3.427109</td>\n",
       "      <td>0</td>\n",
       "    </tr>\n",
       "    <tr>\n",
       "      <th>9</th>\n",
       "      <td>1.439439</td>\n",
       "      <td>4.170306</td>\n",
       "      <td>4.217224</td>\n",
       "      <td>3.026043</td>\n",
       "      <td>0</td>\n",
       "    </tr>\n",
       "    <tr>\n",
       "      <th>10</th>\n",
       "      <td>9.738894</td>\n",
       "      <td>4.048866</td>\n",
       "      <td>8.011392</td>\n",
       "      <td>5.113549</td>\n",
       "      <td>1</td>\n",
       "    </tr>\n",
       "    <tr>\n",
       "      <th>11</th>\n",
       "      <td>1.102835</td>\n",
       "      <td>4.256558</td>\n",
       "      <td>6.543434</td>\n",
       "      <td>5.687218</td>\n",
       "      <td>1</td>\n",
       "    </tr>\n",
       "    <tr>\n",
       "      <th>12</th>\n",
       "      <td>3.277884</td>\n",
       "      <td>1.149017</td>\n",
       "      <td>5.573760</td>\n",
       "      <td>2.337285</td>\n",
       "      <td>1</td>\n",
       "    </tr>\n",
       "    <tr>\n",
       "      <th>13</th>\n",
       "      <td>2.762437</td>\n",
       "      <td>5.920837</td>\n",
       "      <td>9.179260</td>\n",
       "      <td>2.374651</td>\n",
       "      <td>1</td>\n",
       "    </tr>\n",
       "    <tr>\n",
       "      <th>14</th>\n",
       "      <td>3.482826</td>\n",
       "      <td>4.917869</td>\n",
       "      <td>6.696639</td>\n",
       "      <td>7.522627</td>\n",
       "      <td>1</td>\n",
       "    </tr>\n",
       "    <tr>\n",
       "      <th>15</th>\n",
       "      <td>1.185253</td>\n",
       "      <td>8.635052</td>\n",
       "      <td>2.454140</td>\n",
       "      <td>5.111665</td>\n",
       "      <td>1</td>\n",
       "    </tr>\n",
       "    <tr>\n",
       "      <th>16</th>\n",
       "      <td>9.673382</td>\n",
       "      <td>9.054668</td>\n",
       "      <td>9.723709</td>\n",
       "      <td>2.341201</td>\n",
       "      <td>1</td>\n",
       "    </tr>\n",
       "    <tr>\n",
       "      <th>17</th>\n",
       "      <td>6.885477</td>\n",
       "      <td>2.184292</td>\n",
       "      <td>8.146485</td>\n",
       "      <td>5.593680</td>\n",
       "      <td>1</td>\n",
       "    </tr>\n",
       "    <tr>\n",
       "      <th>18</th>\n",
       "      <td>8.836663</td>\n",
       "      <td>4.161990</td>\n",
       "      <td>1.636141</td>\n",
       "      <td>7.292089</td>\n",
       "      <td>1</td>\n",
       "    </tr>\n",
       "    <tr>\n",
       "      <th>19</th>\n",
       "      <td>3.436866</td>\n",
       "      <td>4.044051</td>\n",
       "      <td>5.829933</td>\n",
       "      <td>3.472193</td>\n",
       "      <td>1</td>\n",
       "    </tr>\n",
       "  </tbody>\n",
       "</table>\n",
       "</div>"
      ],
      "text/plain": [
       "          X4        X2        X3        X1  Y\n",
       "0   1.982739  1.820535  2.304260  3.643182  0\n",
       "1   0.904548  4.996817  3.982412  0.304621  0\n",
       "2   0.342628  3.583947  0.314388  4.815050  0\n",
       "3   0.885574  3.564717  4.762095  1.370460  0\n",
       "4   1.410080  2.759004  2.607243  0.302950  0\n",
       "5   4.673567  4.289623  1.631413  1.202430  0\n",
       "6   3.971476  1.110797  0.538714  3.988972  0\n",
       "7   3.122853  0.446187  4.042823  2.073862  0\n",
       "8   4.714165  3.039278  0.474589  3.427109  0\n",
       "9   1.439439  4.170306  4.217224  3.026043  0\n",
       "10  9.738894  4.048866  8.011392  5.113549  1\n",
       "11  1.102835  4.256558  6.543434  5.687218  1\n",
       "12  3.277884  1.149017  5.573760  2.337285  1\n",
       "13  2.762437  5.920837  9.179260  2.374651  1\n",
       "14  3.482826  4.917869  6.696639  7.522627  1\n",
       "15  1.185253  8.635052  2.454140  5.111665  1\n",
       "16  9.673382  9.054668  9.723709  2.341201  1\n",
       "17  6.885477  2.184292  8.146485  5.593680  1\n",
       "18  8.836663  4.161990  1.636141  7.292089  1\n",
       "19  3.436866  4.044051  5.829933  3.472193  1"
      ]
     },
     "execution_count": 16,
     "metadata": {},
     "output_type": "execute_result"
    }
   ],
   "source": [
    "dataset"
   ]
  },
  {
   "cell_type": "markdown",
   "id": "adapted-creativity",
   "metadata": {},
   "source": [
    "Ploting dataset values"
   ]
  },
  {
   "cell_type": "code",
   "execution_count": 17,
   "id": "monetary-onion",
   "metadata": {},
   "outputs": [
    {
     "data": {
      "text/plain": [
       "<matplotlib.legend.Legend at 0x1d20bd8ef70>"
      ]
     },
     "execution_count": 17,
     "metadata": {},
     "output_type": "execute_result"
    },
    {
     "data": {
      "image/png": "[encoded data removed]",
      "text/plain": [
       "<Figure size 432x288 with 1 Axes>"
      ]
     },
     "metadata": {
      "needs_background": "light"
     },
     "output_type": "display_data"
    }
   ],
   "source": [
    "plt.plot(dataset,label='Inline label')\n",
    "plt.legend([\"X2\",\"X1\",\"X3\",\"X4\",\"Y\"])"
   ]
  },
  {
   "cell_type": "markdown",
   "id": "indie-default",
   "metadata": {},
   "source": [
    "Converting Target variable to vector of number of classes"
   ]
  },
  {
   "cell_type": "code",
   "execution_count": 20,
   "id": "chicken-imaging",
   "metadata": {},
   "outputs": [],
   "source": [
    "Z = np.zeros((20, 2))\n",
    "for i in range(20):\n",
    "    Z[i, Y[i]] = 1"
   ]
  },
  {
   "cell_type": "code",
   "execution_count": 21,
   "id": "split-optimization",
   "metadata": {},
   "outputs": [
    {
     "data": {
      "text/plain": [
       "(20, 4)"
      ]
     },
     "execution_count": 21,
     "metadata": {},
     "output_type": "execute_result"
    }
   ],
   "source": [
    "X.shape"
   ]
  },
  {
   "cell_type": "markdown",
   "id": "adaptive-intelligence",
   "metadata": {},
   "source": [
    "Initiating Random Weights and Bias"
   ]
  },
  {
   "cell_type": "code",
   "execution_count": 30,
   "id": "broadband-antigua",
   "metadata": {},
   "outputs": [],
   "source": [
    "Wi_1 = np.random.randn(4, 3)\n",
    "Bi_1 = np.random.randn(4)\n",
    "Wi_2 = np.random.randn(3, 3)\n",
    "Bi_2 = np.random.randn(3)\n",
    "Wi_3 = np.random.randn(3, 3)\n",
    "Bi_3 = np.random.randn(3)\n",
    "Wi_4 = np.random.randn(3, 2)\n",
    "Bi_4 = np.random.randn()"
   ]
  },
  {
   "cell_type": "code",
   "execution_count": 32,
   "id": "tender-agenda",
   "metadata": {},
   "outputs": [
    {
     "data": {
      "text/plain": [
       "array([[ 5.03523106e+00,  1.63372329e+00, -3.26541968e+00],\n",
       "       [-1.63314080e+00, -4.06158926e+00, -1.03295827e+01],\n",
       "       [ 1.22557763e+00,  5.91456931e+00, -2.05444344e+00],\n",
       "       [-2.03372253e-02, -2.22962630e+00, -8.46318810e+00],\n",
       "       [ 1.05255269e+00, -3.37704493e+00, -6.53274058e+00],\n",
       "       [ 7.34955348e+00, -6.18720047e+00, -9.08446097e+00],\n",
       "       [ 9.95443012e+00,  6.51470882e-01, -1.79347721e+00],\n",
       "       [ 7.29328282e+00, -2.65154195e+00, -4.70860593e+00],\n",
       "       [ 9.77934157e+00, -1.78595265e+00, -5.05164767e+00],\n",
       "       [ 1.77555200e+00, -2.61368463e-01, -8.05139546e+00],\n",
       "       [ 2.02149633e+01, -9.22836903e+00, -1.49657646e+01],\n",
       "       [ 2.60365866e+00,  3.33285967e+00, -8.29539153e+00],\n",
       "       [ 7.21813565e+00, -3.34073651e+00, -6.88862176e+00],\n",
       "       [ 2.64843887e+00, -5.76736507e+00, -1.58977091e+01],\n",
       "       [ 8.22723761e+00,  2.91846007e+00, -9.57064240e+00],\n",
       "       [-4.97448449e-01,  2.72342822e+00, -1.08061675e+01],\n",
       "       [ 1.47126059e+01, -1.59266897e+01, -2.46900577e+01],\n",
       "       [ 1.59164345e+01, -4.26926580e+00, -1.06129869e+01],\n",
       "       [ 1.99319203e+01, -1.80638802e+00, -7.57832151e+00],\n",
       "       [ 6.21502254e+00, -2.78934821e+00, -1.02389331e+01]])"
      ]
     },
     "execution_count": 32,
     "metadata": {},
     "output_type": "execute_result"
    }
   ],
   "source": [
    "X.dot(Wi_1)"
   ]
  },
  {
   "cell_type": "code",
   "execution_count": null,
   "id": "norwegian-paper",
   "metadata": {},
   "outputs": [],
   "source": [
    "def forward_prop(X, Wi_1, Bi_1, Wi_2, Bi_2, Wi_3, Bi_3, Wi_4, Bi_4):\n",
    "    # second layer input\n",
    "    M = sigmoid(X.dot(Wi_1.T) + Bi_1)\n",
    "    M = 1 / (1 + np.exp(-(X.dot(Wi_1.T) + Bi_1)))\n",
    "    # second layer\n",
    "    A = M.dot(Wi_2) + Bi_2\n",
    "    expA = np.exp(A)\n",
    "    Y = expA / expA.sum(axis=1, keepdims=True)\n",
    "    return Y, M"
   ]
  },
  {
   "cell_type": "code",
   "execution_count": null,
   "id": "graduate-prefix",
   "metadata": {},
   "outputs": [],
   "source": [
    "def sigmoid(I):\n",
    "    return (1 / (1 + np.exp(-(I))"
   ]
  }
 ],
 "metadata": {
  "kernelspec": {
   "display_name": "Python 3",
   "language": "python",
   "name": "python3"
  },
  "language_info": {
   "codemirror_mode": {
    "name": "ipython",
    "version": 3
   },
   "file_extension": ".py",
   "mimetype": "text/x-python",
   "name": "python",
   "nbconvert_exporter": "python",
   "pygments_lexer": "ipython3",
   "version": "3.8.5"
  }
 },
 "nbformat": 4,
 "nbformat_minor": 5
}
